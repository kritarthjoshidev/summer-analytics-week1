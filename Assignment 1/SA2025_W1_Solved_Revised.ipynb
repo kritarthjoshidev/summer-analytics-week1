{
 "cells": [
  {
   "cell_type": "markdown",
   "id": "5336391d",
   "metadata": {},
   "source": [
    "# Summer Analytics 2025 - Week 1 Assignment (Solved)\n",
    "\n",
    "*Based on the actual dataset structure (`Cars.csv`)*"
   ]
  },
  {
   "cell_type": "code",
   "execution_count": null,
   "id": "2f3f2a93",
   "metadata": {},
   "outputs": [],
   "source": [
    "import pandas as pd\n",
    "import numpy as np\n",
    "\n",
    "df = pd.read_csv(\"Cars.csv\")\n",
    "df.head()"
   ]
  },
  {
   "cell_type": "markdown",
   "id": "3f85a4ab",
   "metadata": {},
   "source": [
    "## Q1: What is the shape of the dataset and what are its column names?"
   ]
  },
  {
   "cell_type": "code",
   "execution_count": null,
   "id": "5edd3028",
   "metadata": {},
   "outputs": [],
   "source": [
    "print(\"Shape:\", df.shape)\n",
    "print(\"Columns:\", df.columns.tolist())"
   ]
  },
  {
   "cell_type": "markdown",
   "id": "c06f94df",
   "metadata": {},
   "source": [
    "## Q2: Remove rows with null values (if any)"
   ]
  },
  {
   "cell_type": "code",
   "execution_count": null,
   "id": "413d2a33",
   "metadata": {},
   "outputs": [],
   "source": [
    "df_cleaned = df.dropna()\n",
    "print(\"Shape after dropping nulls:\", df_cleaned.shape)"
   ]
  },
  {
   "cell_type": "markdown",
   "id": "0e35ce49",
   "metadata": {},
   "source": [
    "## Q3: Show descriptive statistics of numerical columns"
   ]
  },
  {
   "cell_type": "code",
   "execution_count": null,
   "id": "4c274ef1",
   "metadata": {},
   "outputs": [],
   "source": [
    "df_cleaned.describe()"
   ]
  },
  {
   "cell_type": "markdown",
   "id": "c4aa443b",
   "metadata": {},
   "source": [
    "## Q4: What is the average miles per gallon (mpg)?"
   ]
  },
  {
   "cell_type": "code",
   "execution_count": null,
   "id": "064793bb",
   "metadata": {},
   "outputs": [],
   "source": [
    "df_cleaned['mpg'].mean()"
   ]
  },
  {
   "cell_type": "markdown",
   "id": "911b8222",
   "metadata": {},
   "source": [
    "## Q5: Most frequently occurring car names"
   ]
  },
  {
   "cell_type": "code",
   "execution_count": null,
   "id": "609ac18f",
   "metadata": {},
   "outputs": [],
   "source": [
    "df_cleaned['name'].value_counts().head(5)"
   ]
  },
  {
   "cell_type": "markdown",
   "id": "a9d80d94",
   "metadata": {},
   "source": [
    "## Q6: Show all cars with mpg greater than 30"
   ]
  },
  {
   "cell_type": "code",
   "execution_count": null,
   "id": "e1e45311",
   "metadata": {},
   "outputs": [],
   "source": [
    "df_cleaned[df_cleaned['mpg'] > 30]"
   ]
  },
  {
   "cell_type": "markdown",
   "id": "96f1bbc0",
   "metadata": {},
   "source": [
    "## Q7: Average horsepower grouped by number of cylinders"
   ]
  },
  {
   "cell_type": "code",
   "execution_count": null,
   "id": "aea8b5bf",
   "metadata": {},
   "outputs": [],
   "source": [
    "df_cleaned.groupby('cylinders')['horsepower'].mean()"
   ]
  },
  {
   "cell_type": "markdown",
   "id": "1f27052f",
   "metadata": {},
   "source": [
    "## Q8: Top 5 heaviest cars in the dataset"
   ]
  },
  {
   "cell_type": "code",
   "execution_count": null,
   "id": "560b0afd",
   "metadata": {},
   "outputs": [],
   "source": [
    "df_cleaned.sort_values(by='weight', ascending=False).head(5)"
   ]
  }
 ],
 "metadata": {},
 "nbformat": 4,
 "nbformat_minor": 5
}
